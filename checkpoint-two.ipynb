{
 "cells": [
  {
   "cell_type": "markdown",
   "metadata": {
    "azdata_cell_guid": "151601c9-ca7a-412e-af80-c62a87e0837e"
   },
   "source": [
    "# Checkpoint Two: Exploratory Data Analysis\n",
    "\n",
    "Now that your chosen dataset is approved, it is time to start working on your analysis. Use this notebook to perform your EDA and make notes where directed to as you work.\n",
    "\n",
    "## Getting Started\n",
    "\n",
    "Since we have not provided your dataset for you, you will need to load the necessary files in this repository. Make sure to include a link back to the original dataset here as well.\n",
    "\n",
    "My dataset:https://www.kaggle.com/datasets/tysonpo/ice-cream-dataset?resource=download\n",
    "\n",
    "Your first task in EDA is to import necessary libraries and create a dataframe(s). Make note in the form of code comments of what your thought process is as you work on this setup task."
   ]
  },
  {
   "cell_type": "code",
   "execution_count": 5,
   "metadata": {
    "azdata_cell_guid": "7b503e37-6df5-4433-acfb-678b1346db14"
   },
   "outputs": [
    {
     "data": {
      "text/html": [
       "<div>\n",
       "<style scoped>\n",
       "    .dataframe tbody tr th:only-of-type {\n",
       "        vertical-align: middle;\n",
       "    }\n",
       "\n",
       "    .dataframe tbody tr th {\n",
       "        vertical-align: top;\n",
       "    }\n",
       "\n",
       "    .dataframe thead th {\n",
       "        text-align: right;\n",
       "    }\n",
       "</style>\n",
       "<table border=\"1\" class=\"dataframe\">\n",
       "  <thead>\n",
       "    <tr style=\"text-align: right;\">\n",
       "      <th></th>\n",
       "      <th>brand</th>\n",
       "      <th>key</th>\n",
       "      <th>name</th>\n",
       "      <th>subhead</th>\n",
       "      <th>description</th>\n",
       "      <th>rating</th>\n",
       "      <th>rating_count</th>\n",
       "      <th>ingredients</th>\n",
       "    </tr>\n",
       "  </thead>\n",
       "  <tbody>\n",
       "    <tr>\n",
       "      <th>0</th>\n",
       "      <td>bj</td>\n",
       "      <td>0_bj</td>\n",
       "      <td>Salted Caramel Core</td>\n",
       "      <td>Sweet Cream Ice Cream with Blonde Brownies &amp; a...</td>\n",
       "      <td>Find your way to the ultimate ice cream experi...</td>\n",
       "      <td>3.7</td>\n",
       "      <td>208</td>\n",
       "      <td>CREAM, SKIM MILK, LIQUID SUGAR (SUGAR, WATER),...</td>\n",
       "    </tr>\n",
       "    <tr>\n",
       "      <th>1</th>\n",
       "      <td>bj</td>\n",
       "      <td>1_bj</td>\n",
       "      <td>Netflix &amp; Chilll'd™</td>\n",
       "      <td>Peanut Butter Ice Cream with Sweet &amp; Salty Pre...</td>\n",
       "      <td>There’s something for everyone to watch on Net...</td>\n",
       "      <td>4.0</td>\n",
       "      <td>127</td>\n",
       "      <td>CREAM, SKIM MILK, LIQUID SUGAR (SUGAR, WATER),...</td>\n",
       "    </tr>\n",
       "    <tr>\n",
       "      <th>2</th>\n",
       "      <td>bj</td>\n",
       "      <td>2_bj</td>\n",
       "      <td>Chip Happens</td>\n",
       "      <td>A Cold Mess of Chocolate Ice Cream with Fudge ...</td>\n",
       "      <td>Sometimes “chip” happens and everything’s a me...</td>\n",
       "      <td>4.7</td>\n",
       "      <td>130</td>\n",
       "      <td>CREAM, LIQUID SUGAR (SUGAR, WATER), SKIM MILK,...</td>\n",
       "    </tr>\n",
       "    <tr>\n",
       "      <th>3</th>\n",
       "      <td>bj</td>\n",
       "      <td>3_bj</td>\n",
       "      <td>Cannoli</td>\n",
       "      <td>Mascarpone Ice Cream with Fudge-Covered Pastry...</td>\n",
       "      <td>As a Limited Batch that captured the rapture o...</td>\n",
       "      <td>3.6</td>\n",
       "      <td>70</td>\n",
       "      <td>CREAM, SKIM MILK, LIQUID SUGAR (SUGAR, WATER),...</td>\n",
       "    </tr>\n",
       "    <tr>\n",
       "      <th>4</th>\n",
       "      <td>bj</td>\n",
       "      <td>4_bj</td>\n",
       "      <td>Gimme S’more!™</td>\n",
       "      <td>Toasted Marshmallow Ice Cream with Chocolate C...</td>\n",
       "      <td>It’s a gimme: there’s always room for s’more. ...</td>\n",
       "      <td>4.5</td>\n",
       "      <td>281</td>\n",
       "      <td>CREAM, SKIM MILK, WATER, LIQUID SUGAR (SUGAR, ...</td>\n",
       "    </tr>\n",
       "    <tr>\n",
       "      <th>...</th>\n",
       "      <td>...</td>\n",
       "      <td>...</td>\n",
       "      <td>...</td>\n",
       "      <td>...</td>\n",
       "      <td>...</td>\n",
       "      <td>...</td>\n",
       "      <td>...</td>\n",
       "      <td>...</td>\n",
       "    </tr>\n",
       "    <tr>\n",
       "      <th>236</th>\n",
       "      <td>breyers</td>\n",
       "      <td>64_breyers</td>\n",
       "      <td>CINNABON®</td>\n",
       "      <td>NaN</td>\n",
       "      <td>Calling all cinnamon roll lovers! We teamed up...</td>\n",
       "      <td>4.0</td>\n",
       "      <td>28</td>\n",
       "      <td>MILK, CORN SYRUP, SUGAR, BROWN SUGAR, SOYBEAN ...</td>\n",
       "    </tr>\n",
       "    <tr>\n",
       "      <th>237</th>\n",
       "      <td>breyers</td>\n",
       "      <td>65_breyers</td>\n",
       "      <td>CarbSmart™ Caramel Swirl Bar</td>\n",
       "      <td>NaN</td>\n",
       "      <td>Watching your grams of sugar or carbs? Try our...</td>\n",
       "      <td>4.7</td>\n",
       "      <td>18</td>\n",
       "      <td>MILK, WATER, CARAMEL SWIRL, SUGAR, WATER, CORN...</td>\n",
       "    </tr>\n",
       "    <tr>\n",
       "      <th>238</th>\n",
       "      <td>breyers</td>\n",
       "      <td>66_breyers</td>\n",
       "      <td>Layered Dessert S'mores</td>\n",
       "      <td>NaN</td>\n",
       "      <td>Calling all S'mores lovers! Make sure you don'...</td>\n",
       "      <td>2.5</td>\n",
       "      <td>31</td>\n",
       "      <td>MILK, CORN SYRUP, SUGAR, WHEAT FLOUR, BUTTER, ...</td>\n",
       "    </tr>\n",
       "    <tr>\n",
       "      <th>239</th>\n",
       "      <td>breyers</td>\n",
       "      <td>67_breyers</td>\n",
       "      <td>Layered Dessert Peach Cobbler</td>\n",
       "      <td>NaN</td>\n",
       "      <td>Love peach cobbler topped with Breyers®? Then ...</td>\n",
       "      <td>3.2</td>\n",
       "      <td>38</td>\n",
       "      <td>MILK, CORN SYRUP, ENRICHED WHEAT FLOUR, WHEAT ...</td>\n",
       "    </tr>\n",
       "    <tr>\n",
       "      <th>240</th>\n",
       "      <td>breyers</td>\n",
       "      <td>68_breyers</td>\n",
       "      <td>Layered Dessert Brownie Cheesecake</td>\n",
       "      <td>NaN</td>\n",
       "      <td>Love brownie cheesecake? What about Breyers®? ...</td>\n",
       "      <td>2.8</td>\n",
       "      <td>25</td>\n",
       "      <td>MILK, CORN SYRUP, SUGAR, ENRICHED WHEAT FLOUR,...</td>\n",
       "    </tr>\n",
       "  </tbody>\n",
       "</table>\n",
       "<p>241 rows × 8 columns</p>\n",
       "</div>"
      ],
      "text/plain": [
       "       brand         key                                name  \\\n",
       "0         bj        0_bj                 Salted Caramel Core   \n",
       "1         bj        1_bj                 Netflix & Chilll'd™   \n",
       "2         bj        2_bj                        Chip Happens   \n",
       "3         bj        3_bj                             Cannoli   \n",
       "4         bj        4_bj                      Gimme S’more!™   \n",
       "..       ...         ...                                 ...   \n",
       "236  breyers  64_breyers                           CINNABON®   \n",
       "237  breyers  65_breyers        CarbSmart™ Caramel Swirl Bar   \n",
       "238  breyers  66_breyers             Layered Dessert S'mores   \n",
       "239  breyers  67_breyers       Layered Dessert Peach Cobbler   \n",
       "240  breyers  68_breyers  Layered Dessert Brownie Cheesecake   \n",
       "\n",
       "                                               subhead  \\\n",
       "0    Sweet Cream Ice Cream with Blonde Brownies & a...   \n",
       "1    Peanut Butter Ice Cream with Sweet & Salty Pre...   \n",
       "2    A Cold Mess of Chocolate Ice Cream with Fudge ...   \n",
       "3    Mascarpone Ice Cream with Fudge-Covered Pastry...   \n",
       "4    Toasted Marshmallow Ice Cream with Chocolate C...   \n",
       "..                                                 ...   \n",
       "236                                                NaN   \n",
       "237                                                NaN   \n",
       "238                                                NaN   \n",
       "239                                                NaN   \n",
       "240                                                NaN   \n",
       "\n",
       "                                           description  rating  rating_count  \\\n",
       "0    Find your way to the ultimate ice cream experi...     3.7           208   \n",
       "1    There’s something for everyone to watch on Net...     4.0           127   \n",
       "2    Sometimes “chip” happens and everything’s a me...     4.7           130   \n",
       "3    As a Limited Batch that captured the rapture o...     3.6            70   \n",
       "4    It’s a gimme: there’s always room for s’more. ...     4.5           281   \n",
       "..                                                 ...     ...           ...   \n",
       "236  Calling all cinnamon roll lovers! We teamed up...     4.0            28   \n",
       "237  Watching your grams of sugar or carbs? Try our...     4.7            18   \n",
       "238  Calling all S'mores lovers! Make sure you don'...     2.5            31   \n",
       "239  Love peach cobbler topped with Breyers®? Then ...     3.2            38   \n",
       "240  Love brownie cheesecake? What about Breyers®? ...     2.8            25   \n",
       "\n",
       "                                           ingredients  \n",
       "0    CREAM, SKIM MILK, LIQUID SUGAR (SUGAR, WATER),...  \n",
       "1    CREAM, SKIM MILK, LIQUID SUGAR (SUGAR, WATER),...  \n",
       "2    CREAM, LIQUID SUGAR (SUGAR, WATER), SKIM MILK,...  \n",
       "3    CREAM, SKIM MILK, LIQUID SUGAR (SUGAR, WATER),...  \n",
       "4    CREAM, SKIM MILK, WATER, LIQUID SUGAR (SUGAR, ...  \n",
       "..                                                 ...  \n",
       "236  MILK, CORN SYRUP, SUGAR, BROWN SUGAR, SOYBEAN ...  \n",
       "237  MILK, WATER, CARAMEL SWIRL, SUGAR, WATER, CORN...  \n",
       "238  MILK, CORN SYRUP, SUGAR, WHEAT FLOUR, BUTTER, ...  \n",
       "239  MILK, CORN SYRUP, ENRICHED WHEAT FLOUR, WHEAT ...  \n",
       "240  MILK, CORN SYRUP, SUGAR, ENRICHED WHEAT FLOUR,...  \n",
       "\n",
       "[241 rows x 8 columns]"
      ]
     },
     "execution_count": 5,
     "metadata": {},
     "output_type": "execute_result"
    }
   ],
   "source": [
    "import pandas as pd\n",
    "import sqlite3 as sl\n",
    "import numpy as np\n",
    "import seaborn as sb\n",
    "import matplotlib.pyplot as plt\n",
    "from matplotlib import style\n",
    "\n",
    "df_reviews=pd.read_csv('reviews.csv')\n",
    "df=pd.read_csv('products.csv')\n",
    "df\n"
   ]
  },
  {
   "cell_type": "markdown",
   "metadata": {
    "azdata_cell_guid": "129ce836-524b-4ea8-b394-a959f9308d6a"
   },
   "source": [
    "## Get to Know the Numbers\n",
    "\n",
    "Now that you have everything setup, put any code that you use to get to know the dataframe and its rows and columns better in the cell below. You can use whatever techniques you like, except for visualizations. You will put those in a separate section.\n",
    "\n",
    "When working on your code, make sure to leave comments so that your mentors can understand your thought process."
   ]
  },
  {
   "cell_type": "code",
   "execution_count": 41,
   "metadata": {},
   "outputs": [
    {
     "name": "stdout",
     "output_type": "stream",
     "text": [
      "<class 'pandas.core.frame.DataFrame'>\n",
      "RangeIndex: 241 entries, 0 to 240\n",
      "Data columns (total 7 columns):\n",
      " #   Column        Non-Null Count  Dtype  \n",
      "---  ------        --------------  -----  \n",
      " 0   brand         241 non-null    object \n",
      " 1   key           241 non-null    object \n",
      " 2   name          241 non-null    object \n",
      " 3   description   237 non-null    object \n",
      " 4   rating        241 non-null    float64\n",
      " 5   rating_count  241 non-null    int64  \n",
      " 6   ingredients   241 non-null    object \n",
      "dtypes: float64(1), int64(1), object(5)\n",
      "memory usage: 13.3+ KB\n"
     ]
    }
   ],
   "source": [
    "df.info()  #checking the deatils like null,data type"
   ]
  },
  {
   "cell_type": "code",
   "execution_count": 60,
   "metadata": {},
   "outputs": [
    {
     "name": "stdout",
     "output_type": "stream",
     "text": [
      "10.0 % Missing cells from the data\n"
     ]
    }
   ],
   "source": [
    "#Finding missing values\n",
    "total_cells = np.product(df.shape)\n",
    "\n",
    "missing_cells = pd.isnull(df).sum()\n",
    "\n",
    "total_missing = missing_cells.sum()\n",
    "\n",
    "percentage_missing = round((total_missing/total_cells), 2) *100\n",
    "\n",
    "print(percentage_missing, \"% Missing cells from the data\") "
   ]
  },
  {
   "cell_type": "code",
   "execution_count": 61,
   "metadata": {},
   "outputs": [
    {
     "name": "stdout",
     "output_type": "stream",
     "text": [
      "brand - 0.0%\n",
      "key - 0.0%\n",
      "name - 0.0%\n",
      "subhead - 76.35%\n",
      "description - 1.66%\n",
      "rating - 0.0%\n",
      "rating_count - 0.0%\n",
      "ingredients - 0.0%\n"
     ]
    }
   ],
   "source": [
    "#to find the missing percentages\n",
    "for col in df.columns:\n",
    "    pct_missing = np.mean(df[col].isnull())\n",
    "    print('{} - {}%'.format(col, round(pct_missing*100,2)))"
   ]
  },
  {
   "cell_type": "code",
   "execution_count": 60,
   "metadata": {},
   "outputs": [
    {
     "data": {
      "text/html": [
       "<div>\n",
       "<style scoped>\n",
       "    .dataframe tbody tr th:only-of-type {\n",
       "        vertical-align: middle;\n",
       "    }\n",
       "\n",
       "    .dataframe tbody tr th {\n",
       "        vertical-align: top;\n",
       "    }\n",
       "\n",
       "    .dataframe thead th {\n",
       "        text-align: right;\n",
       "    }\n",
       "</style>\n",
       "<table border=\"1\" class=\"dataframe\">\n",
       "  <thead>\n",
       "    <tr style=\"text-align: right;\">\n",
       "      <th></th>\n",
       "      <th>brand</th>\n",
       "      <th>key</th>\n",
       "      <th>name</th>\n",
       "      <th>subhead</th>\n",
       "      <th>description</th>\n",
       "      <th>rating</th>\n",
       "      <th>rating_count</th>\n",
       "      <th>ingredients</th>\n",
       "    </tr>\n",
       "  </thead>\n",
       "  <tbody>\n",
       "    <tr>\n",
       "      <th>120</th>\n",
       "      <td>hd</td>\n",
       "      <td>63_hd</td>\n",
       "      <td>Vanilla Caramel White Chocolate TRIO CRISPY LA...</td>\n",
       "      <td>NaN</td>\n",
       "      <td>This incredible combination of tastes and text...</td>\n",
       "      <td>5.0</td>\n",
       "      <td>32</td>\n",
       "      <td>CREAM, SKIM MILK, SUGAR, SWEETENED CONDENSED M...</td>\n",
       "    </tr>\n",
       "    <tr>\n",
       "      <th>7</th>\n",
       "      <td>bj</td>\n",
       "      <td>7_bj</td>\n",
       "      <td>Chocolate Peanut Butter Split</td>\n",
       "      <td>Chocolate &amp; Banana Ice Creams with Mini Peanut...</td>\n",
       "      <td>We’ve loaded our banana and chocolate ice crea...</td>\n",
       "      <td>5.0</td>\n",
       "      <td>7</td>\n",
       "      <td>CREAM, SKIM MILK, LIQUID SUGAR (SUGAR, WATER),...</td>\n",
       "    </tr>\n",
       "    <tr>\n",
       "      <th>213</th>\n",
       "      <td>breyers</td>\n",
       "      <td>41_breyers</td>\n",
       "      <td>OREO® Snack Cups 10ct</td>\n",
       "      <td>NaN</td>\n",
       "      <td>Breyers® vanilla with real OREO®? Yes please! ...</td>\n",
       "      <td>5.0</td>\n",
       "      <td>2</td>\n",
       "      <td>SKIM MILK, LIQUID SUGAR, SUGAR, WATER, CREAM, ...</td>\n",
       "    </tr>\n",
       "    <tr>\n",
       "      <th>101</th>\n",
       "      <td>hd</td>\n",
       "      <td>44_hd</td>\n",
       "      <td>Peppermint Bark Ice Cream Bar</td>\n",
       "      <td>NaN</td>\n",
       "      <td>Our peppermint bark ice cream bars start with ...</td>\n",
       "      <td>5.0</td>\n",
       "      <td>8</td>\n",
       "      <td>WHITE CHOCOLATE ICE CREAM: CREAM, SKIM MILK, S...</td>\n",
       "    </tr>\n",
       "    <tr>\n",
       "      <th>88</th>\n",
       "      <td>hd</td>\n",
       "      <td>31_hd</td>\n",
       "      <td>Honey Salted Caramel Almond Ice Cream</td>\n",
       "      <td>NaN</td>\n",
       "      <td>This decadent blend of honey ice cream, swirls...</td>\n",
       "      <td>5.0</td>\n",
       "      <td>103</td>\n",
       "      <td>CREAM, SKIM MILK, SUGAR, SWEETENED CONDENSED M...</td>\n",
       "    </tr>\n",
       "    <tr>\n",
       "      <th>71</th>\n",
       "      <td>hd</td>\n",
       "      <td>14_hd</td>\n",
       "      <td>Chocolate Fudge Non-Dairy Bar</td>\n",
       "      <td>NaN</td>\n",
       "      <td>Enjoy an indulgent non-dairy and vegan bar mad...</td>\n",
       "      <td>5.0</td>\n",
       "      <td>22</td>\n",
       "      <td>WATER, SUGAR, CORN SYRUP, CHOCOLATE, COCONUT O...</td>\n",
       "    </tr>\n",
       "    <tr>\n",
       "      <th>29</th>\n",
       "      <td>bj</td>\n",
       "      <td>29_bj</td>\n",
       "      <td>Ice Cream Sammie</td>\n",
       "      <td>Vanilla Ice Cream with Chocolate Sandwich Cook...</td>\n",
       "      <td>To capture the great taste of the classic ice ...</td>\n",
       "      <td>5.0</td>\n",
       "      <td>31</td>\n",
       "      <td>CREAM, SKIM MILK, LIQUID SUGAR (SUGAR, WATER),...</td>\n",
       "    </tr>\n",
       "    <tr>\n",
       "      <th>100</th>\n",
       "      <td>hd</td>\n",
       "      <td>43_hd</td>\n",
       "      <td>Peppermint Bark Ice Cream</td>\n",
       "      <td>NaN</td>\n",
       "      <td>Celebrate the season with our rendition of thi...</td>\n",
       "      <td>5.0</td>\n",
       "      <td>31</td>\n",
       "      <td>WHITE CHOCOLATE ICE CREAM (CREAM, SKIM MILK, S...</td>\n",
       "    </tr>\n",
       "    <tr>\n",
       "      <th>33</th>\n",
       "      <td>bj</td>\n",
       "      <td>33_bj</td>\n",
       "      <td>New York Super Fudge Chunk®</td>\n",
       "      <td>Chocolate Ice Cream with White &amp; Dark Fudge Ch...</td>\n",
       "      <td>In 1985, to make a name for ourselves in New Y...</td>\n",
       "      <td>4.9</td>\n",
       "      <td>63</td>\n",
       "      <td>CREAM, LIQUID SUGAR (SUGAR, WATER), SKIM MILK,...</td>\n",
       "    </tr>\n",
       "    <tr>\n",
       "      <th>235</th>\n",
       "      <td>breyers</td>\n",
       "      <td>63_breyers</td>\n",
       "      <td>Chocolate Snack Cups 10ct</td>\n",
       "      <td>NaN</td>\n",
       "      <td>Breyers® Chocolate ice cream - rich, creamy, w...</td>\n",
       "      <td>4.9</td>\n",
       "      <td>26</td>\n",
       "      <td>MILK, CREAM, SUGAR, WATER, DUTCHED COCOA (PROC...</td>\n",
       "    </tr>\n",
       "  </tbody>\n",
       "</table>\n",
       "</div>"
      ],
      "text/plain": [
       "       brand         key                                               name  \\\n",
       "120       hd       63_hd  Vanilla Caramel White Chocolate TRIO CRISPY LA...   \n",
       "7         bj        7_bj                      Chocolate Peanut Butter Split   \n",
       "213  breyers  41_breyers                              OREO® Snack Cups 10ct   \n",
       "101       hd       44_hd                      Peppermint Bark Ice Cream Bar   \n",
       "88        hd       31_hd              Honey Salted Caramel Almond Ice Cream   \n",
       "71        hd       14_hd                      Chocolate Fudge Non-Dairy Bar   \n",
       "29        bj       29_bj                                   Ice Cream Sammie   \n",
       "100       hd       43_hd                          Peppermint Bark Ice Cream   \n",
       "33        bj       33_bj                        New York Super Fudge Chunk®   \n",
       "235  breyers  63_breyers                          Chocolate Snack Cups 10ct   \n",
       "\n",
       "                                               subhead  \\\n",
       "120                                                NaN   \n",
       "7    Chocolate & Banana Ice Creams with Mini Peanut...   \n",
       "213                                                NaN   \n",
       "101                                                NaN   \n",
       "88                                                 NaN   \n",
       "71                                                 NaN   \n",
       "29   Vanilla Ice Cream with Chocolate Sandwich Cook...   \n",
       "100                                                NaN   \n",
       "33   Chocolate Ice Cream with White & Dark Fudge Ch...   \n",
       "235                                                NaN   \n",
       "\n",
       "                                           description  rating  rating_count  \\\n",
       "120  This incredible combination of tastes and text...     5.0            32   \n",
       "7    We’ve loaded our banana and chocolate ice crea...     5.0             7   \n",
       "213  Breyers® vanilla with real OREO®? Yes please! ...     5.0             2   \n",
       "101  Our peppermint bark ice cream bars start with ...     5.0             8   \n",
       "88   This decadent blend of honey ice cream, swirls...     5.0           103   \n",
       "71   Enjoy an indulgent non-dairy and vegan bar mad...     5.0            22   \n",
       "29   To capture the great taste of the classic ice ...     5.0            31   \n",
       "100  Celebrate the season with our rendition of thi...     5.0            31   \n",
       "33   In 1985, to make a name for ourselves in New Y...     4.9            63   \n",
       "235  Breyers® Chocolate ice cream - rich, creamy, w...     4.9            26   \n",
       "\n",
       "                                           ingredients  \n",
       "120  CREAM, SKIM MILK, SUGAR, SWEETENED CONDENSED M...  \n",
       "7    CREAM, SKIM MILK, LIQUID SUGAR (SUGAR, WATER),...  \n",
       "213  SKIM MILK, LIQUID SUGAR, SUGAR, WATER, CREAM, ...  \n",
       "101  WHITE CHOCOLATE ICE CREAM: CREAM, SKIM MILK, S...  \n",
       "88   CREAM, SKIM MILK, SUGAR, SWEETENED CONDENSED M...  \n",
       "71   WATER, SUGAR, CORN SYRUP, CHOCOLATE, COCONUT O...  \n",
       "29   CREAM, SKIM MILK, LIQUID SUGAR (SUGAR, WATER),...  \n",
       "100  WHITE CHOCOLATE ICE CREAM (CREAM, SKIM MILK, S...  \n",
       "33   CREAM, LIQUID SUGAR (SUGAR, WATER), SKIM MILK,...  \n",
       "235  MILK, CREAM, SUGAR, WATER, DUTCHED COCOA (PROC...  "
      ]
     },
     "execution_count": 60,
     "metadata": {},
     "output_type": "execute_result"
    }
   ],
   "source": [
    "#finding highest rating icecream\n",
    "ex_rating=df.sort_values('rating',ascending=0).head(10)\n",
    "ex_rating"
   ]
  },
  {
   "cell_type": "code",
   "execution_count": 67,
   "metadata": {
    "scrolled": true
   },
   "outputs": [
    {
     "data": {
      "text/html": [
       "<div>\n",
       "<style scoped>\n",
       "    .dataframe tbody tr th:only-of-type {\n",
       "        vertical-align: middle;\n",
       "    }\n",
       "\n",
       "    .dataframe tbody tr th {\n",
       "        vertical-align: top;\n",
       "    }\n",
       "\n",
       "    .dataframe thead th {\n",
       "        text-align: right;\n",
       "    }\n",
       "</style>\n",
       "<table border=\"1\" class=\"dataframe\">\n",
       "  <thead>\n",
       "    <tr style=\"text-align: right;\">\n",
       "      <th></th>\n",
       "      <th>brand</th>\n",
       "      <th>key</th>\n",
       "      <th>name</th>\n",
       "      <th>subhead</th>\n",
       "      <th>description</th>\n",
       "      <th>rating</th>\n",
       "      <th>rating_count</th>\n",
       "      <th>ingredients</th>\n",
       "    </tr>\n",
       "  </thead>\n",
       "  <tbody>\n",
       "    <tr>\n",
       "      <th>221</th>\n",
       "      <td>breyers</td>\n",
       "      <td>49_breyers</td>\n",
       "      <td>Chocolate Chip Cookie Dough</td>\n",
       "      <td>NaN</td>\n",
       "      <td>With creamy vanilla and chunks of cookie dough...</td>\n",
       "      <td>1.2</td>\n",
       "      <td>89</td>\n",
       "      <td>MILK, SUGAR, CORN SYRUP, CREAM, ENRICHED WHEAT...</td>\n",
       "    </tr>\n",
       "    <tr>\n",
       "      <th>50</th>\n",
       "      <td>bj</td>\n",
       "      <td>50_bj</td>\n",
       "      <td>Chocolate Chip Cookie Dough Core</td>\n",
       "      <td>Cookie Milk Ice Cream with Fudge Chips &amp; a Cho...</td>\n",
       "      <td>Our latest cookie dough creation is boldly loa...</td>\n",
       "      <td>1.8</td>\n",
       "      <td>166</td>\n",
       "      <td>CREAM, SKIM MILK, WATER, LIQUID SUGAR (SUGAR, ...</td>\n",
       "    </tr>\n",
       "    <tr>\n",
       "      <th>223</th>\n",
       "      <td>breyers</td>\n",
       "      <td>51_breyers</td>\n",
       "      <td>Coffee</td>\n",
       "      <td>NaN</td>\n",
       "      <td>Enjoy Breyers® Coffee by the scoop and brew up...</td>\n",
       "      <td>2.4</td>\n",
       "      <td>52</td>\n",
       "      <td>MILK, CORN SYRUP, SUGAR, CREAM, COFFEE EXTRACT...</td>\n",
       "    </tr>\n",
       "    <tr>\n",
       "      <th>238</th>\n",
       "      <td>breyers</td>\n",
       "      <td>66_breyers</td>\n",
       "      <td>Layered Dessert S'mores</td>\n",
       "      <td>NaN</td>\n",
       "      <td>Calling all S'mores lovers! Make sure you don'...</td>\n",
       "      <td>2.5</td>\n",
       "      <td>31</td>\n",
       "      <td>MILK, CORN SYRUP, SUGAR, WHEAT FLOUR, BUTTER, ...</td>\n",
       "    </tr>\n",
       "    <tr>\n",
       "      <th>123</th>\n",
       "      <td>hd</td>\n",
       "      <td>66_hd</td>\n",
       "      <td>Vanilla Milk Chocolate Almond Ice Cream Bar</td>\n",
       "      <td>NaN</td>\n",
       "      <td>We start with pure, sweet vanilla and blend it...</td>\n",
       "      <td>2.5</td>\n",
       "      <td>224</td>\n",
       "      <td>CREAM, SKIM MILK, SUGAR, EGG YOLKS, MILK CHOCO...</td>\n",
       "    </tr>\n",
       "  </tbody>\n",
       "</table>\n",
       "</div>"
      ],
      "text/plain": [
       "       brand         key                                         name  \\\n",
       "221  breyers  49_breyers                  Chocolate Chip Cookie Dough   \n",
       "50        bj       50_bj             Chocolate Chip Cookie Dough Core   \n",
       "223  breyers  51_breyers                                       Coffee   \n",
       "238  breyers  66_breyers                      Layered Dessert S'mores   \n",
       "123       hd       66_hd  Vanilla Milk Chocolate Almond Ice Cream Bar   \n",
       "\n",
       "                                               subhead  \\\n",
       "221                                                NaN   \n",
       "50   Cookie Milk Ice Cream with Fudge Chips & a Cho...   \n",
       "223                                                NaN   \n",
       "238                                                NaN   \n",
       "123                                                NaN   \n",
       "\n",
       "                                           description  rating  rating_count  \\\n",
       "221  With creamy vanilla and chunks of cookie dough...     1.2            89   \n",
       "50   Our latest cookie dough creation is boldly loa...     1.8           166   \n",
       "223  Enjoy Breyers® Coffee by the scoop and brew up...     2.4            52   \n",
       "238  Calling all S'mores lovers! Make sure you don'...     2.5            31   \n",
       "123  We start with pure, sweet vanilla and blend it...     2.5           224   \n",
       "\n",
       "                                           ingredients  \n",
       "221  MILK, SUGAR, CORN SYRUP, CREAM, ENRICHED WHEAT...  \n",
       "50   CREAM, SKIM MILK, WATER, LIQUID SUGAR (SUGAR, ...  \n",
       "223  MILK, CORN SYRUP, SUGAR, CREAM, COFFEE EXTRACT...  \n",
       "238  MILK, CORN SYRUP, SUGAR, WHEAT FLOUR, BUTTER, ...  \n",
       "123  CREAM, SKIM MILK, SUGAR, EGG YOLKS, MILK CHOCO...  "
      ]
     },
     "execution_count": 67,
     "metadata": {},
     "output_type": "execute_result"
    }
   ],
   "source": [
    "#Finding the lowest rating ice cream\n",
    "worst_rating=df.sort_values('rating').head()\n",
    "worst_rating\n",
    "#worst rating one is breyers Chocolate Chip Cookie Dough"
   ]
  },
  {
   "cell_type": "code",
   "execution_count": null,
   "metadata": {},
   "outputs": [],
   "source": []
  },
  {
   "cell_type": "code",
   "execution_count": 34,
   "metadata": {},
   "outputs": [
    {
     "data": {
      "text/html": [
       "<div>\n",
       "<style scoped>\n",
       "    .dataframe tbody tr th:only-of-type {\n",
       "        vertical-align: middle;\n",
       "    }\n",
       "\n",
       "    .dataframe tbody tr th {\n",
       "        vertical-align: top;\n",
       "    }\n",
       "\n",
       "    .dataframe thead th {\n",
       "        text-align: right;\n",
       "    }\n",
       "</style>\n",
       "<table border=\"1\" class=\"dataframe\">\n",
       "  <thead>\n",
       "    <tr style=\"text-align: right;\">\n",
       "      <th></th>\n",
       "      <th>brand</th>\n",
       "      <th>rating</th>\n",
       "    </tr>\n",
       "  </thead>\n",
       "  <tbody>\n",
       "    <tr>\n",
       "      <th>0</th>\n",
       "      <td>bj</td>\n",
       "      <td>4.331579</td>\n",
       "    </tr>\n",
       "    <tr>\n",
       "      <th>1</th>\n",
       "      <td>breyers</td>\n",
       "      <td>3.962319</td>\n",
       "    </tr>\n",
       "    <tr>\n",
       "      <th>2</th>\n",
       "      <td>hd</td>\n",
       "      <td>4.307143</td>\n",
       "    </tr>\n",
       "    <tr>\n",
       "      <th>3</th>\n",
       "      <td>talenti</td>\n",
       "      <td>4.355556</td>\n",
       "    </tr>\n",
       "  </tbody>\n",
       "</table>\n",
       "</div>"
      ],
      "text/plain": [
       "     brand    rating\n",
       "0       bj  4.331579\n",
       "1  breyers  3.962319\n",
       "2       hd  4.307143\n",
       "3  talenti  4.355556"
      ]
     },
     "execution_count": 34,
     "metadata": {},
     "output_type": "execute_result"
    }
   ],
   "source": [
    "# want to know the mean rating for each ice cream brand\n",
    "Brand_Rating = df.groupby('brand')['rating'].mean().to_frame().reset_index()\n",
    "\n",
    "Brand_Rating"
   ]
  },
  {
   "cell_type": "code",
   "execution_count": 66,
   "metadata": {},
   "outputs": [],
   "source": [
    "#worst_rating=df[[\"name\",\"rating\",\"rating_count\"]].sort_values(\"rating\")\n",
    "#worst_rating\n",
    "#Chocolate Chip Cookie Dough has worse review"
   ]
  },
  {
   "cell_type": "code",
   "execution_count": null,
   "metadata": {},
   "outputs": [],
   "source": []
  },
  {
   "cell_type": "code",
   "execution_count": 6,
   "metadata": {},
   "outputs": [],
   "source": [
    "# #sub head is not necessary and 76% is missing so am going to drop that column.\n",
    "# df=df.drop(['subhead'],axis=1)\n",
    "# df"
   ]
  },
  {
   "cell_type": "markdown",
   "metadata": {
    "azdata_cell_guid": "d45060f3-97bc-484a-9ef4-66145bbe9427"
   },
   "source": [
    "## Visualize\n",
    "\n",
    "Create any visualizations for your EDA here. Make note in the form of code comments of what your thought process is for your visualizations."
   ]
  },
  {
   "cell_type": "code",
   "execution_count": 75,
   "metadata": {},
   "outputs": [
    {
     "data": {
      "text/plain": [
       "<Axes: xlabel='brand', ylabel='rating'>"
      ]
     },
     "execution_count": 75,
     "metadata": {},
     "output_type": "execute_result"
    },
    {
     "data": {
      "image/png": "[encoded data removed]",
      "text/plain": [
       "<Figure size 640x480 with 1 Axes>"
      ]
     },
     "metadata": {},
     "output_type": "display_data"
    }
   ],
   "source": [
    "#The rating for the four different brands\n",
    "    \n",
    "#plt.bar(Brand_Rating['brand'],Brand_Rating['rating'])\n",
    "# x=Brand_Rating['brand']\n",
    "# y=Brand_Rating['rating']\n",
    "# plt.bar(x,y)\n",
    "# plt.show()\n",
    "\n",
    "Brand_Rating.plot.scatter(x='brand',y='rating')"
   ]
  },
  {
   "cell_type": "code",
   "execution_count": 68,
   "metadata": {
    "azdata_cell_guid": "cd64bab1-db4c-4295-820d-c6464b653a3e"
   },
   "outputs": [
    {
     "data": {
      "text/plain": [
       "<BarContainer object of 5 artists>"
      ]
     },
     "execution_count": 68,
     "metadata": {},
     "output_type": "execute_result"
    },
    {
     "data": {
      "image/png": "[encoded data removed]",
      "text/plain": [
       "<Figure size 640x480 with 1 Axes>"
      ]
     },
     "metadata": {},
     "output_type": "display_data"
    }
   ],
   "source": [
    "plt.bar(worst_rating['name'],worst_rating['rating'])#finding the worst rating icecream"
   ]
  },
  {
   "cell_type": "code",
   "execution_count": 77,
   "metadata": {},
   "outputs": [
    {
     "data": {
      "text/plain": [
       "<BarContainer object of 10 artists>"
      ]
     },
     "execution_count": 77,
     "metadata": {},
     "output_type": "execute_result"
    },
    {
     "data": {
      "image/png": "[encoded data removed]",
      "text/plain": [
       "<Figure size 640x480 with 1 Axes>"
      ]
     },
     "metadata": {},
     "output_type": "display_data"
    }
   ],
   "source": [
    "plt.bar(ex_rating['name'],ex_rating['rating']) #plotting excellent rating ice creams\n",
    "#ex_rating.plot.scatter(x='name', y='rating')"
   ]
  },
  {
   "cell_type": "markdown",
   "metadata": {
    "azdata_cell_guid": "d4931c0c-2c09-4ee1-95d4-73dd08c2f0a6"
   },
   "source": [
    "## Summarize Your Results\n",
    "\n",
    "With your EDA complete, answer the following questions.\n",
    "\n",
    "1. Was there anything surprising about your dataset? \n",
    "When you check the ingredients for highest rating icecream and lowest rating ice cream,we can see it is almost same( not talking about flavor).That is with the same ingredients we can make the best ice cream and the worst icecream.\n",
    "\n",
    "\n",
    "2. Do you have any concerns about your dataset? \n",
    "\n",
    "The Breyers ice cream rating is lesser than others,but while checking for the excellent rating one,can see one of this brand is there in the top.But the rating count for this is  very less.So I am confused whether should I consider this or not, while finding the most loved ice creams\n",
    "\n",
    "3. Is there anything you want to make note of for the next phase of your analysis, which is cleaning data? \n",
    "\n",
    "Sub head and description are not needed for my analysis,and it has missing values also,thinking to remove those"
   ]
  }
 ],
 "metadata": {
  "kernelspec": {
   "display_name": "Python 3 (ipykernel)",
   "language": "python",
   "name": "python3"
  },
  "language_info": {
   "codemirror_mode": {
    "name": "ipython",
    "version": 3
   },
   "file_extension": ".py",
   "mimetype": "text/x-python",
   "name": "python",
   "nbconvert_exporter": "python",
   "pygments_lexer": "ipython3",
   "version": "3.11.3"
  }
 },
 "nbformat": 4,
 "nbformat_minor": 2
}
